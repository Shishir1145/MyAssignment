{
 "cells": [
  {
   "cell_type": "markdown",
   "id": "e333aa19-73b5-4cfb-9de2-98339e0fffe9",
   "metadata": {},
   "source": [
    "# Data Science Tools And Ecosystem"
   ]
  },
  {
   "cell_type": "markdown",
   "id": "26581c48-3082-4513-910d-74593f67462d",
   "metadata": {},
   "source": [
    "In this notebook, Data Science Tools and Ecosystem are summarized\n",
    "\n",
    "**Objectives** \n",
    "- Some of the popular languages that the Data Scientists use\n",
    "- Some of the commonly used libraries used by Data Scientists\n",
    "- Data Science Tools\n",
    "- Examples of arithmetic expressions in Python"
   ]
  },
  {
   "cell_type": "markdown",
   "id": "665cf8ab-9c28-4fe4-ab6f-0eb8e56667a4",
   "metadata": {},
   "source": [
    "Some of the popular languages that the Data Scientists use are:\n",
    "\n",
    "1. Python\n",
    "2. R\n",
    "3. JavaScript"
   ]
  },
  {
   "cell_type": "markdown",
   "id": "8845529e-6371-44e7-8657-597e1f13bbf6",
   "metadata": {},
   "source": [
    "Some of the commonly used libraries used by the Data Scientists includes:\n",
    "\n",
    "1. Pandas\n",
    "2. NumPy\n",
    "3. Scikit-Learn\n",
    "4. Keras"
   ]
  },
  {
   "cell_type": "markdown",
   "id": "c882d63b-b0d2-4d8c-8f09-bdf7783ad53b",
   "metadata": {},
   "source": [
    "| Data Science Tools |\n",
    "----------------------\n",
    "| RStudio |\n",
    "| Apache Spark |\n",
    "| Apache Hadoop |"
   ]
  },
  {
   "cell_type": "markdown",
   "id": "947aa40f-7be4-43f1-81ae-c20a03f2acd0",
   "metadata": {},
   "source": [
    "### Below are some examples of evaluating arithmetic expressions in Python"
   ]
  },
  {
   "cell_type": "markdown",
   "id": "18cef4e9-3b76-4ed1-9076-ffb0f783c45c",
   "metadata": {},
   "source": [
    "This a simple arithmetic expression to multiple then add integers"
   ]
  },
  {
   "cell_type": "code",
   "execution_count": 1,
   "id": "8c391706-894f-4d6b-a224-c13571379889",
   "metadata": {
    "tags": []
   },
   "outputs": [
    {
     "data": {
      "text/plain": [
       "17"
      ]
     },
     "execution_count": 1,
     "metadata": {},
     "output_type": "execute_result"
    }
   ],
   "source": [
    "(3*4)+5"
   ]
  },
  {
   "cell_type": "markdown",
   "id": "bcc894fa-1083-4a2f-8ac3-9702faba50ab",
   "metadata": {},
   "source": [
    "This will convert the 200 minutes into hours by dividing by 60"
   ]
  },
  {
   "cell_type": "code",
   "execution_count": 3,
   "id": "c126e455-f751-473a-b2aa-42387b423c10",
   "metadata": {
    "tags": []
   },
   "outputs": [
    {
     "data": {
      "text/plain": [
       "3.3333333333333335"
      ]
     },
     "execution_count": 3,
     "metadata": {},
     "output_type": "execute_result"
    }
   ],
   "source": [
    "200/60"
   ]
  },
  {
   "cell_type": "markdown",
   "id": "d3708176-9ceb-45cf-9454-2456874e562e",
   "metadata": {},
   "source": [
    "## Author\n",
    "Shishir"
   ]
  },
  {
   "cell_type": "code",
   "execution_count": null,
   "id": "80b0350f-702b-4eaf-9608-d5cd691ac12d",
   "metadata": {},
   "outputs": [],
   "source": []
  }
 ],
 "metadata": {
  "kernelspec": {
   "display_name": "Python",
   "language": "python",
   "name": "conda-env-python-py"
  },
  "language_info": {
   "codemirror_mode": {
    "name": "ipython",
    "version": 3
   },
   "file_extension": ".py",
   "mimetype": "text/x-python",
   "name": "python",
   "nbconvert_exporter": "python",
   "pygments_lexer": "ipython3",
   "version": "3.7.12"
  }
 },
 "nbformat": 4,
 "nbformat_minor": 5
}
